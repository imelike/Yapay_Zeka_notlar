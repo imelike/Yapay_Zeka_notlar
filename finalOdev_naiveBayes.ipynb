{
 "cells": [
  {
   "cell_type": "code",
   "execution_count": 1,
   "id": "483c3e26",
   "metadata": {
    "_cell_guid": "b1076dfc-b9ad-4769-8c92-a6c4dae69d19",
    "_uuid": "8f2839f25d086af736a60e9eeb907d3b93b6e0e5",
    "execution": {
     "iopub.execute_input": "2024-09-23T12:03:39.307760Z",
     "iopub.status.busy": "2024-09-23T12:03:39.307074Z",
     "iopub.status.idle": "2024-09-23T12:03:39.782306Z",
     "shell.execute_reply": "2024-09-23T12:03:39.780963Z"
    },
    "papermill": {
     "duration": 0.486952,
     "end_time": "2024-09-23T12:03:39.785025",
     "exception": false,
     "start_time": "2024-09-23T12:03:39.298073",
     "status": "completed"
    },
    "tags": []
   },
   "outputs": [
    {
     "name": "stdout",
     "output_type": "stream",
     "text": [
      "/kaggle/input/air-quality-and-health-impact-dataset/air_quality_health_impact_data.csv\n"
     ]
    }
   ],
   "source": [
    "# This Python 3 environment comes with many helpful analytics libraries installed\n",
    "# It is defined by the kaggle/python Docker image: https://github.com/kaggle/docker-python\n",
    "# For example, here's several helpful packages to load\n",
    "\n",
    "import numpy as np # linear algebra\n",
    "import pandas as pd # data processing, CSV file I/O (e.g. pd.read_csv)\n",
    "\n",
    "# Input data files are available in the read-only \"../input/\" directory\n",
    "# For example, running this (by clicking run or pressing Shift+Enter) will list all files under the input directory\n",
    "\n",
    "import os\n",
    "for dirname, _, filenames in os.walk('/kaggle/input'):\n",
    "    for filename in filenames:\n",
    "        print(os.path.join(dirname, filename))\n",
    "\n",
    "# You can write up to 20GB to the current directory (/kaggle/working/) that gets preserved as output when you create a version using \"Save & Run All\" \n",
    "# You can also write temporary files to /kaggle/temp/, but they won't be saved outside of the current session"
   ]
  },
  {
   "cell_type": "code",
   "execution_count": 2,
   "id": "bafd4acf",
   "metadata": {
    "execution": {
     "iopub.execute_input": "2024-09-23T12:03:39.798034Z",
     "iopub.status.busy": "2024-09-23T12:03:39.796740Z",
     "iopub.status.idle": "2024-09-23T12:03:39.875567Z",
     "shell.execute_reply": "2024-09-23T12:03:39.874408Z"
    },
    "papermill": {
     "duration": 0.08809,
     "end_time": "2024-09-23T12:03:39.878274",
     "exception": false,
     "start_time": "2024-09-23T12:03:39.790184",
     "status": "completed"
    },
    "tags": []
   },
   "outputs": [
    {
     "data": {
      "text/html": [
       "<div>\n",
       "<style scoped>\n",
       "    .dataframe tbody tr th:only-of-type {\n",
       "        vertical-align: middle;\n",
       "    }\n",
       "\n",
       "    .dataframe tbody tr th {\n",
       "        vertical-align: top;\n",
       "    }\n",
       "\n",
       "    .dataframe thead th {\n",
       "        text-align: right;\n",
       "    }\n",
       "</style>\n",
       "<table border=\"1\" class=\"dataframe\">\n",
       "  <thead>\n",
       "    <tr style=\"text-align: right;\">\n",
       "      <th></th>\n",
       "      <th>RecordID</th>\n",
       "      <th>AQI</th>\n",
       "      <th>PM10</th>\n",
       "      <th>PM2_5</th>\n",
       "      <th>NO2</th>\n",
       "      <th>SO2</th>\n",
       "      <th>O3</th>\n",
       "      <th>Temperature</th>\n",
       "      <th>Humidity</th>\n",
       "      <th>WindSpeed</th>\n",
       "      <th>RespiratoryCases</th>\n",
       "      <th>CardiovascularCases</th>\n",
       "      <th>HospitalAdmissions</th>\n",
       "      <th>HealthImpactScore</th>\n",
       "      <th>HealthImpactClass</th>\n",
       "    </tr>\n",
       "  </thead>\n",
       "  <tbody>\n",
       "    <tr>\n",
       "      <th>0</th>\n",
       "      <td>1</td>\n",
       "      <td>187.270059</td>\n",
       "      <td>295.853039</td>\n",
       "      <td>13.038560</td>\n",
       "      <td>6.639263</td>\n",
       "      <td>66.161150</td>\n",
       "      <td>54.624280</td>\n",
       "      <td>5.150335</td>\n",
       "      <td>84.424344</td>\n",
       "      <td>6.137755</td>\n",
       "      <td>7</td>\n",
       "      <td>5</td>\n",
       "      <td>1</td>\n",
       "      <td>97.244041</td>\n",
       "      <td>0.0</td>\n",
       "    </tr>\n",
       "    <tr>\n",
       "      <th>1</th>\n",
       "      <td>2</td>\n",
       "      <td>475.357153</td>\n",
       "      <td>246.254703</td>\n",
       "      <td>9.984497</td>\n",
       "      <td>16.318326</td>\n",
       "      <td>90.499523</td>\n",
       "      <td>169.621728</td>\n",
       "      <td>1.543378</td>\n",
       "      <td>46.851415</td>\n",
       "      <td>4.521422</td>\n",
       "      <td>10</td>\n",
       "      <td>2</td>\n",
       "      <td>0</td>\n",
       "      <td>100.000000</td>\n",
       "      <td>0.0</td>\n",
       "    </tr>\n",
       "    <tr>\n",
       "      <th>2</th>\n",
       "      <td>3</td>\n",
       "      <td>365.996971</td>\n",
       "      <td>84.443191</td>\n",
       "      <td>23.111340</td>\n",
       "      <td>96.317811</td>\n",
       "      <td>17.875850</td>\n",
       "      <td>9.006794</td>\n",
       "      <td>1.169483</td>\n",
       "      <td>17.806977</td>\n",
       "      <td>11.157384</td>\n",
       "      <td>13</td>\n",
       "      <td>3</td>\n",
       "      <td>0</td>\n",
       "      <td>100.000000</td>\n",
       "      <td>0.0</td>\n",
       "    </tr>\n",
       "    <tr>\n",
       "      <th>3</th>\n",
       "      <td>4</td>\n",
       "      <td>299.329242</td>\n",
       "      <td>21.020609</td>\n",
       "      <td>14.273403</td>\n",
       "      <td>81.234403</td>\n",
       "      <td>48.323616</td>\n",
       "      <td>93.161033</td>\n",
       "      <td>21.925276</td>\n",
       "      <td>99.473373</td>\n",
       "      <td>15.302500</td>\n",
       "      <td>8</td>\n",
       "      <td>8</td>\n",
       "      <td>1</td>\n",
       "      <td>100.000000</td>\n",
       "      <td>0.0</td>\n",
       "    </tr>\n",
       "    <tr>\n",
       "      <th>4</th>\n",
       "      <td>5</td>\n",
       "      <td>78.009320</td>\n",
       "      <td>16.987667</td>\n",
       "      <td>152.111623</td>\n",
       "      <td>121.235461</td>\n",
       "      <td>90.866167</td>\n",
       "      <td>241.795138</td>\n",
       "      <td>9.217517</td>\n",
       "      <td>24.906837</td>\n",
       "      <td>14.534733</td>\n",
       "      <td>9</td>\n",
       "      <td>0</td>\n",
       "      <td>1</td>\n",
       "      <td>95.182643</td>\n",
       "      <td>0.0</td>\n",
       "    </tr>\n",
       "  </tbody>\n",
       "</table>\n",
       "</div>"
      ],
      "text/plain": [
       "   RecordID         AQI        PM10       PM2_5         NO2        SO2  \\\n",
       "0         1  187.270059  295.853039   13.038560    6.639263  66.161150   \n",
       "1         2  475.357153  246.254703    9.984497   16.318326  90.499523   \n",
       "2         3  365.996971   84.443191   23.111340   96.317811  17.875850   \n",
       "3         4  299.329242   21.020609   14.273403   81.234403  48.323616   \n",
       "4         5   78.009320   16.987667  152.111623  121.235461  90.866167   \n",
       "\n",
       "           O3  Temperature   Humidity  WindSpeed  RespiratoryCases  \\\n",
       "0   54.624280     5.150335  84.424344   6.137755                 7   \n",
       "1  169.621728     1.543378  46.851415   4.521422                10   \n",
       "2    9.006794     1.169483  17.806977  11.157384                13   \n",
       "3   93.161033    21.925276  99.473373  15.302500                 8   \n",
       "4  241.795138     9.217517  24.906837  14.534733                 9   \n",
       "\n",
       "   CardiovascularCases  HospitalAdmissions  HealthImpactScore  \\\n",
       "0                    5                   1          97.244041   \n",
       "1                    2                   0         100.000000   \n",
       "2                    3                   0         100.000000   \n",
       "3                    8                   1         100.000000   \n",
       "4                    0                   1          95.182643   \n",
       "\n",
       "   HealthImpactClass  \n",
       "0                0.0  \n",
       "1                0.0  \n",
       "2                0.0  \n",
       "3                0.0  \n",
       "4                0.0  "
      ]
     },
     "execution_count": 2,
     "metadata": {},
     "output_type": "execute_result"
    }
   ],
   "source": [
    "df = pd.read_csv('/kaggle/input/air-quality-and-health-impact-dataset/air_quality_health_impact_data.csv')\n",
    "pd.set_option('max_colwidth', 100)\n",
    "df.head(5)"
   ]
  },
  {
   "cell_type": "markdown",
   "id": "298badee",
   "metadata": {
    "papermill": {
     "duration": 0.005613,
     "end_time": "2024-09-23T12:03:39.889204",
     "exception": false,
     "start_time": "2024-09-23T12:03:39.883591",
     "status": "completed"
    },
    "tags": []
   },
   "source": [
    "### Preprocessing(Ön İşleme) Aşamaları\n",
    "\n",
    "1) Eksik Verileri(NA) Kontrol Etme ve Doldurma:\n",
    "\n",
    "Veri setinde eksik veri bulunmuyor, bu yüzden bu adımı atlıyorum\n",
    "\n",
    "2) Özellik Ölçekleme (Feature Scaling):\n",
    "\n",
    "Özelliklerin farklı ölçeklerde olması, özellikle mesafe tabanlı algoritmalarda (KNN, SVM) model performansını etkileyebilir. Bu nedenle, verileri ölçeklendirmek faydalı olabilir.\n",
    "\n",
    "**Not:** StandardScaler veya MinMaxScaler kullanarak verileri ölçeklendireceğim.\n",
    "\n",
    "3) Kategorik Verilerin Dönüştürülmesi:\n",
    "\n",
    "Veri setinde sadece sayısal veriler var, bu nedenle bu adımı atlıyorum.\n",
    "\n",
    "4) Hedef Değişken (Label) Dönüştürme:\n",
    "\n",
    "HealthImpactClass hedef değişkenimiz olacak. Bu değişkenin sınıflandırma için uygun olup olmadığını kontrol edelim."
   ]
  },
  {
   "cell_type": "code",
   "execution_count": 3,
   "id": "fc430196",
   "metadata": {
    "execution": {
     "iopub.execute_input": "2024-09-23T12:03:39.901865Z",
     "iopub.status.busy": "2024-09-23T12:03:39.901333Z",
     "iopub.status.idle": "2024-09-23T12:03:39.973940Z",
     "shell.execute_reply": "2024-09-23T12:03:39.972727Z"
    },
    "papermill": {
     "duration": 0.082946,
     "end_time": "2024-09-23T12:03:39.977309",
     "exception": false,
     "start_time": "2024-09-23T12:03:39.894363",
     "status": "completed"
    },
    "tags": []
   },
   "outputs": [
    {
     "name": "stdout",
     "output_type": "stream",
     "text": [
      "##################### Shape #####################\n",
      "(5811, 15)\n",
      "##################### Types #####################\n",
      "RecordID                 int64\n",
      "AQI                    float64\n",
      "PM10                   float64\n",
      "PM2_5                  float64\n",
      "NO2                    float64\n",
      "SO2                    float64\n",
      "O3                     float64\n",
      "Temperature            float64\n",
      "Humidity               float64\n",
      "WindSpeed              float64\n",
      "RespiratoryCases         int64\n",
      "CardiovascularCases      int64\n",
      "HospitalAdmissions       int64\n",
      "HealthImpactScore      float64\n",
      "HealthImpactClass      float64\n",
      "dtype: object\n",
      "##################### Head #####################\n",
      "   RecordID         AQI        PM10       PM2_5         NO2        SO2  \\\n",
      "0         1  187.270059  295.853039   13.038560    6.639263  66.161150   \n",
      "1         2  475.357153  246.254703    9.984497   16.318326  90.499523   \n",
      "2         3  365.996971   84.443191   23.111340   96.317811  17.875850   \n",
      "3         4  299.329242   21.020609   14.273403   81.234403  48.323616   \n",
      "4         5   78.009320   16.987667  152.111623  121.235461  90.866167   \n",
      "\n",
      "           O3  Temperature   Humidity  WindSpeed  RespiratoryCases  \\\n",
      "0   54.624280     5.150335  84.424344   6.137755                 7   \n",
      "1  169.621728     1.543378  46.851415   4.521422                10   \n",
      "2    9.006794     1.169483  17.806977  11.157384                13   \n",
      "3   93.161033    21.925276  99.473373  15.302500                 8   \n",
      "4  241.795138     9.217517  24.906837  14.534733                 9   \n",
      "\n",
      "   CardiovascularCases  HospitalAdmissions  HealthImpactScore  \\\n",
      "0                    5                   1          97.244041   \n",
      "1                    2                   0         100.000000   \n",
      "2                    3                   0         100.000000   \n",
      "3                    8                   1         100.000000   \n",
      "4                    0                   1          95.182643   \n",
      "\n",
      "   HealthImpactClass  \n",
      "0                0.0  \n",
      "1                0.0  \n",
      "2                0.0  \n",
      "3                0.0  \n",
      "4                0.0  \n",
      "##################### Tail #####################\n",
      "      RecordID         AQI        PM10       PM2_5         NO2        SO2  \\\n",
      "5806      5807  171.112762   11.246387  197.984628  158.643107  17.743678   \n",
      "5807      5808  490.691667  275.340762   55.774170  132.336871  29.334724   \n",
      "5808      5809  314.841798   41.892699  184.708551   82.105823  68.334578   \n",
      "5809      5810  208.080473  165.533785  199.177255  100.796385  87.586488   \n",
      "5810      5811   83.269257   82.216262  119.968244  193.440691  79.849177   \n",
      "\n",
      "              O3  Temperature   Humidity  WindSpeed  RespiratoryCases  \\\n",
      "5806  280.370909    37.359323  61.707640   4.097129                14   \n",
      "5807  108.043492    34.532542  21.528555   6.682549                 8   \n",
      "5808  105.568503    22.975564  92.725625   2.889698                12   \n",
      "5809  166.469537    36.090620  25.836286  10.722393                 6   \n",
      "5810   28.681885    18.239090  77.096194  16.410320                14   \n",
      "\n",
      "      CardiovascularCases  HospitalAdmissions  HealthImpactScore  \\\n",
      "5806                    5                   2         100.000000   \n",
      "5807                    6                   2         100.000000   \n",
      "5808                    2                   3         100.000000   \n",
      "5809                    2                   3         100.000000   \n",
      "5810                    2                   2          81.668298   \n",
      "\n",
      "      HealthImpactClass  \n",
      "5806                4.0  \n",
      "5807                3.0  \n",
      "5808                1.0  \n",
      "5809                4.0  \n",
      "5810                0.0  \n",
      "##################### NA #####################\n",
      "RecordID               0\n",
      "AQI                    0\n",
      "PM10                   0\n",
      "PM2_5                  0\n",
      "NO2                    0\n",
      "SO2                    0\n",
      "O3                     0\n",
      "Temperature            0\n",
      "Humidity               0\n",
      "WindSpeed              0\n",
      "RespiratoryCases       0\n",
      "CardiovascularCases    0\n",
      "HospitalAdmissions     0\n",
      "HealthImpactScore      0\n",
      "HealthImpactClass      0\n",
      "dtype: int64\n",
      "##################### Quantiles #####################\n",
      "                      count         mean          std        min         0%  \\\n",
      "RecordID             5811.0  2906.000000  1677.635538   1.000000   1.000000   \n",
      "AQI                  5811.0   248.438476   144.777638   0.005817   0.005817   \n",
      "PM10                 5811.0   148.654997    85.698500   0.015848   0.015848   \n",
      "PM2_5                5811.0   100.223714    58.096612   0.031549   0.031549   \n",
      "NO2                  5811.0   102.293445    57.713175   0.009625   0.009625   \n",
      "SO2                  5811.0    49.456838    28.530329   0.011023   0.011023   \n",
      "O3                   5811.0   149.312431    86.534240   0.001661   0.001661   \n",
      "Temperature          5811.0    14.975500    14.483067  -9.990998  -9.990998   \n",
      "Humidity             5811.0    54.776853    26.020786  10.001506  10.001506   \n",
      "WindSpeed            5811.0     9.989177     5.776950   0.002094   0.002094   \n",
      "RespiratoryCases     5811.0     9.974187     3.129234   1.000000   1.000000   \n",
      "CardiovascularCases  5811.0     4.988986     2.216791   0.000000   0.000000   \n",
      "HospitalAdmissions   5811.0     2.001033     1.398794   0.000000   0.000000   \n",
      "HealthImpactScore    5811.0    93.785223    13.318904  22.448488  22.448488   \n",
      "HealthImpactClass    5811.0     0.281191     0.714075   0.000000   0.000000   \n",
      "\n",
      "                             5%          50%          95%          99%  \\\n",
      "RecordID             291.500000  2906.000000  5520.500000  5752.900000   \n",
      "AQI                   25.439463   249.127841   475.718659   494.399293   \n",
      "PM10                  14.747903   147.634997   283.017811   295.890851   \n",
      "PM2_5                  9.668424   100.506337   190.815388   198.299421   \n",
      "NO2                   10.842656   102.987736   190.595540   198.279682   \n",
      "SO2                    5.205098    49.530165    94.994553    98.923619   \n",
      "O3                    15.164336   149.559871   284.470563   297.253841   \n",
      "Temperature           -7.643431    14.942428    37.530075    39.488903   \n",
      "Humidity              14.752562    54.543904    95.425189    99.270932   \n",
      "WindSpeed              0.929979    10.051742    18.911179    19.779708   \n",
      "RespiratoryCases       5.000000    10.000000    15.000000    18.000000   \n",
      "CardiovascularCases    2.000000     5.000000     9.000000    11.000000   \n",
      "HospitalAdmissions     0.000000     2.000000     4.000000     6.000000   \n",
      "HealthImpactScore     61.621037   100.000000   100.000000   100.000000   \n",
      "HealthImpactClass      0.000000     0.000000     2.000000     3.000000   \n",
      "\n",
      "                            100%          max  \n",
      "RecordID             5811.000000  5811.000000  \n",
      "AQI                   499.858837   499.858837  \n",
      "PM10                  299.901962   299.901962  \n",
      "PM2_5                 199.984965   199.984965  \n",
      "NO2                   199.980195   199.980195  \n",
      "SO2                    99.969561    99.969561  \n",
      "O3                    299.936812   299.936812  \n",
      "Temperature            39.963434    39.963434  \n",
      "Humidity               99.997493    99.997493  \n",
      "WindSpeed              19.999139    19.999139  \n",
      "RespiratoryCases       23.000000    23.000000  \n",
      "CardiovascularCases    14.000000    14.000000  \n",
      "HospitalAdmissions     12.000000    12.000000  \n",
      "HealthImpactScore     100.000000   100.000000  \n",
      "HealthImpactClass       4.000000     4.000000  \n"
     ]
    }
   ],
   "source": [
    "def check_df(dataframe, head=5):\n",
    "    print(\"##################### Shape #####################\")\n",
    "    print(dataframe.shape)\n",
    "    print(\"##################### Types #####################\")\n",
    "    print(dataframe.dtypes)\n",
    "    print(\"##################### Head #####################\")\n",
    "    print(dataframe.head(head))\n",
    "    print(\"##################### Tail #####################\")\n",
    "    print(dataframe.tail(head))\n",
    "    print(\"##################### NA #####################\")\n",
    "    print(dataframe.isnull().sum())\n",
    "    print(\"##################### Quantiles #####################\")\n",
    "    print(dataframe.describe([0, 0.05, 0.50, 0.95, 0.99, 1]).T)\n",
    "\n",
    "\n",
    "check_df(df)"
   ]
  },
  {
   "cell_type": "code",
   "execution_count": 4,
   "id": "c7fd308d",
   "metadata": {
    "execution": {
     "iopub.execute_input": "2024-09-23T12:03:39.991779Z",
     "iopub.status.busy": "2024-09-23T12:03:39.990447Z",
     "iopub.status.idle": "2024-09-23T12:03:41.499479Z",
     "shell.execute_reply": "2024-09-23T12:03:41.497993Z"
    },
    "papermill": {
     "duration": 1.519761,
     "end_time": "2024-09-23T12:03:41.502678",
     "exception": false,
     "start_time": "2024-09-23T12:03:39.982917",
     "status": "completed"
    },
    "tags": []
   },
   "outputs": [],
   "source": [
    "import pandas as pd\n",
    "from sklearn.model_selection import train_test_split\n",
    "from sklearn.preprocessing import StandardScaler\n",
    "from sklearn.naive_bayes import GaussianNB\n",
    "from sklearn.metrics import accuracy_score, classification_report, confusion_matrix"
   ]
  },
  {
   "cell_type": "code",
   "execution_count": 5,
   "id": "91f87036",
   "metadata": {
    "execution": {
     "iopub.execute_input": "2024-09-23T12:03:41.516035Z",
     "iopub.status.busy": "2024-09-23T12:03:41.515392Z",
     "iopub.status.idle": "2024-09-23T12:03:41.526762Z",
     "shell.execute_reply": "2024-09-23T12:03:41.525623Z"
    },
    "papermill": {
     "duration": 0.021051,
     "end_time": "2024-09-23T12:03:41.529461",
     "exception": false,
     "start_time": "2024-09-23T12:03:41.508410",
     "status": "completed"
    },
    "tags": []
   },
   "outputs": [],
   "source": [
    "# Özellikler (X) ve hedef değişken (y)\n",
    "\n",
    "X = df.drop('HealthImpactClass', axis=1)\n",
    "y = df['HealthImpactClass']"
   ]
  },
  {
   "cell_type": "code",
   "execution_count": 6,
   "id": "653ada20",
   "metadata": {
    "execution": {
     "iopub.execute_input": "2024-09-23T12:03:41.542345Z",
     "iopub.status.busy": "2024-09-23T12:03:41.541895Z",
     "iopub.status.idle": "2024-09-23T12:03:41.554185Z",
     "shell.execute_reply": "2024-09-23T12:03:41.552605Z"
    },
    "papermill": {
     "duration": 0.021962,
     "end_time": "2024-09-23T12:03:41.556944",
     "exception": false,
     "start_time": "2024-09-23T12:03:41.534982",
     "status": "completed"
    },
    "tags": []
   },
   "outputs": [],
   "source": [
    "# Train-test split\n",
    "\n",
    "X_train, X_test, y_train, y_test = train_test_split(X, y, test_size=0.2, random_state=58)"
   ]
  },
  {
   "cell_type": "code",
   "execution_count": 7,
   "id": "4d2df731",
   "metadata": {
    "execution": {
     "iopub.execute_input": "2024-09-23T12:03:41.569894Z",
     "iopub.status.busy": "2024-09-23T12:03:41.569439Z",
     "iopub.status.idle": "2024-09-23T12:03:41.587170Z",
     "shell.execute_reply": "2024-09-23T12:03:41.585565Z"
    },
    "papermill": {
     "duration": 0.027648,
     "end_time": "2024-09-23T12:03:41.590211",
     "exception": false,
     "start_time": "2024-09-23T12:03:41.562563",
     "status": "completed"
    },
    "tags": []
   },
   "outputs": [
    {
     "data": {
      "text/html": [
       "<style>#sk-container-id-1 {color: black;background-color: white;}#sk-container-id-1 pre{padding: 0;}#sk-container-id-1 div.sk-toggleable {background-color: white;}#sk-container-id-1 label.sk-toggleable__label {cursor: pointer;display: block;width: 100%;margin-bottom: 0;padding: 0.3em;box-sizing: border-box;text-align: center;}#sk-container-id-1 label.sk-toggleable__label-arrow:before {content: \"▸\";float: left;margin-right: 0.25em;color: #696969;}#sk-container-id-1 label.sk-toggleable__label-arrow:hover:before {color: black;}#sk-container-id-1 div.sk-estimator:hover label.sk-toggleable__label-arrow:before {color: black;}#sk-container-id-1 div.sk-toggleable__content {max-height: 0;max-width: 0;overflow: hidden;text-align: left;background-color: #f0f8ff;}#sk-container-id-1 div.sk-toggleable__content pre {margin: 0.2em;color: black;border-radius: 0.25em;background-color: #f0f8ff;}#sk-container-id-1 input.sk-toggleable__control:checked~div.sk-toggleable__content {max-height: 200px;max-width: 100%;overflow: auto;}#sk-container-id-1 input.sk-toggleable__control:checked~label.sk-toggleable__label-arrow:before {content: \"▾\";}#sk-container-id-1 div.sk-estimator input.sk-toggleable__control:checked~label.sk-toggleable__label {background-color: #d4ebff;}#sk-container-id-1 div.sk-label input.sk-toggleable__control:checked~label.sk-toggleable__label {background-color: #d4ebff;}#sk-container-id-1 input.sk-hidden--visually {border: 0;clip: rect(1px 1px 1px 1px);clip: rect(1px, 1px, 1px, 1px);height: 1px;margin: -1px;overflow: hidden;padding: 0;position: absolute;width: 1px;}#sk-container-id-1 div.sk-estimator {font-family: monospace;background-color: #f0f8ff;border: 1px dotted black;border-radius: 0.25em;box-sizing: border-box;margin-bottom: 0.5em;}#sk-container-id-1 div.sk-estimator:hover {background-color: #d4ebff;}#sk-container-id-1 div.sk-parallel-item::after {content: \"\";width: 100%;border-bottom: 1px solid gray;flex-grow: 1;}#sk-container-id-1 div.sk-label:hover label.sk-toggleable__label {background-color: #d4ebff;}#sk-container-id-1 div.sk-serial::before {content: \"\";position: absolute;border-left: 1px solid gray;box-sizing: border-box;top: 0;bottom: 0;left: 50%;z-index: 0;}#sk-container-id-1 div.sk-serial {display: flex;flex-direction: column;align-items: center;background-color: white;padding-right: 0.2em;padding-left: 0.2em;position: relative;}#sk-container-id-1 div.sk-item {position: relative;z-index: 1;}#sk-container-id-1 div.sk-parallel {display: flex;align-items: stretch;justify-content: center;background-color: white;position: relative;}#sk-container-id-1 div.sk-item::before, #sk-container-id-1 div.sk-parallel-item::before {content: \"\";position: absolute;border-left: 1px solid gray;box-sizing: border-box;top: 0;bottom: 0;left: 50%;z-index: -1;}#sk-container-id-1 div.sk-parallel-item {display: flex;flex-direction: column;z-index: 1;position: relative;background-color: white;}#sk-container-id-1 div.sk-parallel-item:first-child::after {align-self: flex-end;width: 50%;}#sk-container-id-1 div.sk-parallel-item:last-child::after {align-self: flex-start;width: 50%;}#sk-container-id-1 div.sk-parallel-item:only-child::after {width: 0;}#sk-container-id-1 div.sk-dashed-wrapped {border: 1px dashed gray;margin: 0 0.4em 0.5em 0.4em;box-sizing: border-box;padding-bottom: 0.4em;background-color: white;}#sk-container-id-1 div.sk-label label {font-family: monospace;font-weight: bold;display: inline-block;line-height: 1.2em;}#sk-container-id-1 div.sk-label-container {text-align: center;}#sk-container-id-1 div.sk-container {/* jupyter's `normalize.less` sets `[hidden] { display: none; }` but bootstrap.min.css set `[hidden] { display: none !important; }` so we also need the `!important` here to be able to override the default hidden behavior on the sphinx rendered scikit-learn.org. See: https://github.com/scikit-learn/scikit-learn/issues/21755 */display: inline-block !important;position: relative;}#sk-container-id-1 div.sk-text-repr-fallback {display: none;}</style><div id=\"sk-container-id-1\" class=\"sk-top-container\"><div class=\"sk-text-repr-fallback\"><pre>GaussianNB()</pre><b>In a Jupyter environment, please rerun this cell to show the HTML representation or trust the notebook. <br />On GitHub, the HTML representation is unable to render, please try loading this page with nbviewer.org.</b></div><div class=\"sk-container\" hidden><div class=\"sk-item\"><div class=\"sk-estimator sk-toggleable\"><input class=\"sk-toggleable__control sk-hidden--visually\" id=\"sk-estimator-id-1\" type=\"checkbox\" checked><label for=\"sk-estimator-id-1\" class=\"sk-toggleable__label sk-toggleable__label-arrow\">GaussianNB</label><div class=\"sk-toggleable__content\"><pre>GaussianNB()</pre></div></div></div></div></div>"
      ],
      "text/plain": [
       "GaussianNB()"
      ]
     },
     "execution_count": 7,
     "metadata": {},
     "output_type": "execute_result"
    }
   ],
   "source": [
    "# Gaussian Naive Bayes modelin oluşturulması ve eğitim\n",
    "\n",
    "gnb = GaussianNB()\n",
    "gnb.fit(X_train, y_train)"
   ]
  },
  {
   "cell_type": "code",
   "execution_count": 8,
   "id": "0b99e8c7",
   "metadata": {
    "execution": {
     "iopub.execute_input": "2024-09-23T12:03:41.603843Z",
     "iopub.status.busy": "2024-09-23T12:03:41.603369Z",
     "iopub.status.idle": "2024-09-23T12:03:41.613715Z",
     "shell.execute_reply": "2024-09-23T12:03:41.612401Z"
    },
    "papermill": {
     "duration": 0.020279,
     "end_time": "2024-09-23T12:03:41.616483",
     "exception": false,
     "start_time": "2024-09-23T12:03:41.596204",
     "status": "completed"
    },
    "tags": []
   },
   "outputs": [
    {
     "name": "stdout",
     "output_type": "stream",
     "text": [
      "[0. 0. 0. ... 0. 0. 0.]\n"
     ]
    }
   ],
   "source": [
    "# Tahmin yapılması\n",
    "\n",
    "y_pred = gnb.predict(X_test)\n",
    "print(y_pred)"
   ]
  },
  {
   "cell_type": "code",
   "execution_count": 9,
   "id": "8845ea3d",
   "metadata": {
    "execution": {
     "iopub.execute_input": "2024-09-23T12:03:41.630620Z",
     "iopub.status.busy": "2024-09-23T12:03:41.630142Z",
     "iopub.status.idle": "2024-09-23T12:03:41.660015Z",
     "shell.execute_reply": "2024-09-23T12:03:41.658087Z"
    },
    "papermill": {
     "duration": 0.040897,
     "end_time": "2024-09-23T12:03:41.663348",
     "exception": false,
     "start_time": "2024-09-23T12:03:41.622451",
     "status": "completed"
    },
    "tags": []
   },
   "outputs": [
    {
     "name": "stdout",
     "output_type": "stream",
     "text": [
      "Accuracy: 0.8907996560619088\n",
      "Classification Report:\n",
      "              precision    recall  f1-score   support\n",
      "\n",
      "         0.0       0.96      0.93      0.95       966\n",
      "         1.0       0.56      0.94      0.70       111\n",
      "         2.0       0.75      0.54      0.63        56\n",
      "         3.0       0.00      0.00      0.00        14\n",
      "         4.0       0.33      0.06      0.11        16\n",
      "\n",
      "    accuracy                           0.89      1163\n",
      "   macro avg       0.52      0.49      0.48      1163\n",
      "weighted avg       0.89      0.89      0.89      1163\n",
      "\n",
      "Confusion Matrix:\n",
      "[[901  62   3   0   0]\n",
      " [  7 104   0   0   0]\n",
      " [  8  16  30   0   2]\n",
      " [  6   1   7   0   0]\n",
      " [ 13   2   0   0   1]]\n"
     ]
    },
    {
     "name": "stderr",
     "output_type": "stream",
     "text": [
      "/opt/conda/lib/python3.10/site-packages/sklearn/metrics/_classification.py:1344: UndefinedMetricWarning: Precision and F-score are ill-defined and being set to 0.0 in labels with no predicted samples. Use `zero_division` parameter to control this behavior.\n",
      "  _warn_prf(average, modifier, msg_start, len(result))\n",
      "/opt/conda/lib/python3.10/site-packages/sklearn/metrics/_classification.py:1344: UndefinedMetricWarning: Precision and F-score are ill-defined and being set to 0.0 in labels with no predicted samples. Use `zero_division` parameter to control this behavior.\n",
      "  _warn_prf(average, modifier, msg_start, len(result))\n",
      "/opt/conda/lib/python3.10/site-packages/sklearn/metrics/_classification.py:1344: UndefinedMetricWarning: Precision and F-score are ill-defined and being set to 0.0 in labels with no predicted samples. Use `zero_division` parameter to control this behavior.\n",
      "  _warn_prf(average, modifier, msg_start, len(result))\n"
     ]
    }
   ],
   "source": [
    "# Model performansı değerlendirilmesi\n",
    "\n",
    "accuracy = accuracy_score(y_test, y_pred)\n",
    "print(f'Accuracy: {accuracy}')\n",
    "print('Classification Report:')\n",
    "print(classification_report(y_test, y_pred))\n",
    "print('Confusion Matrix:')\n",
    "print(confusion_matrix(y_test, y_pred))"
   ]
  },
  {
   "cell_type": "code",
   "execution_count": null,
   "id": "d3fa8e9f",
   "metadata": {
    "papermill": {
     "duration": 0.005793,
     "end_time": "2024-09-23T12:03:41.675314",
     "exception": false,
     "start_time": "2024-09-23T12:03:41.669521",
     "status": "completed"
    },
    "tags": []
   },
   "outputs": [],
   "source": []
  }
 ],
 "metadata": {
  "kaggle": {
   "accelerator": "none",
   "dataSources": [
    {
     "datasetId": 5200310,
     "sourceId": 8675842,
     "sourceType": "datasetVersion"
    }
   ],
   "dockerImageVersionId": 30761,
   "isGpuEnabled": false,
   "isInternetEnabled": true,
   "language": "python",
   "sourceType": "notebook"
  },
  "kernelspec": {
   "display_name": "Python 3",
   "language": "python",
   "name": "python3"
  },
  "language_info": {
   "codemirror_mode": {
    "name": "ipython",
    "version": 3
   },
   "file_extension": ".py",
   "mimetype": "text/x-python",
   "name": "python",
   "nbconvert_exporter": "python",
   "pygments_lexer": "ipython3",
   "version": "3.10.14"
  },
  "papermill": {
   "default_parameters": {},
   "duration": 6.090774,
   "end_time": "2024-09-23T12:03:42.304673",
   "environment_variables": {},
   "exception": null,
   "input_path": "__notebook__.ipynb",
   "output_path": "__notebook__.ipynb",
   "parameters": {},
   "start_time": "2024-09-23T12:03:36.213899",
   "version": "2.6.0"
  }
 },
 "nbformat": 4,
 "nbformat_minor": 5
}
