{
  "cells": [
    {
      "cell_type": "markdown",
      "metadata": {
        "id": "view-in-github",
        "colab_type": "text"
      },
      "source": [
        "<a href=\"https://colab.research.google.com/github/imelike/Yapay_Zeka_notlar/blob/main/GA_HF_3.ipynb\" target=\"_parent\"><img src=\"https://colab.research.google.com/assets/colab-badge.svg\" alt=\"Open In Colab\"/></a>"
      ]
    },
    {
      "cell_type": "code",
      "execution_count": null,
      "id": "f77ef2e6",
      "metadata": {
        "id": "f77ef2e6"
      },
      "outputs": [],
      "source": [
        "import numpy as np\n",
        "import random as rnd"
      ]
    },
    {
      "cell_type": "code",
      "execution_count": null,
      "id": "1f3ff054",
      "metadata": {
        "id": "1f3ff054"
      },
      "outputs": [],
      "source": [
        "iterasyon=50\n",
        "crosover_rate=0.50\n",
        "pop_size=6\n",
        "gen_size=4"
      ]
    },
    {
      "cell_type": "code",
      "execution_count": null,
      "id": "aee7aadd",
      "metadata": {
        "id": "aee7aadd"
      },
      "outputs": [],
      "source": [
        "def create_chromosome():\n",
        "    return [rnd.randint(0,30) for x in range (0,gen_size)]\n",
        "def create_initial_pop():\n",
        "    return [create_chromosome() for x in range (0,pop_size)]"
      ]
    },
    {
      "cell_type": "code",
      "execution_count": null,
      "id": "b9eb7578",
      "metadata": {
        "id": "b9eb7578"
      },
      "outputs": [],
      "source": [
        "def fitness(cr):\n",
        "    return 1/(1+abs((cr[0]+2*cr[1]+3*cr[2]+4*cr[3])-30))"
      ]
    },
    {
      "cell_type": "code",
      "execution_count": null,
      "id": "0e6f76e8",
      "metadata": {
        "id": "0e6f76e8"
      },
      "outputs": [],
      "source": [
        "def probabilitiy(fitness_values):\n",
        "    P=[]\n",
        "    total=sum(fitness_values)\n",
        "    for f in fitness_values:\n",
        "        P.append(f/total)\n",
        "    return P"
      ]
    },
    {
      "cell_type": "code",
      "execution_count": null,
      "id": "632599d6",
      "metadata": {
        "id": "632599d6"
      },
      "outputs": [],
      "source": [
        "def crossover(P1,P2):\n",
        "    O1=[]\n",
        "    O2=[]\n",
        "\n",
        "    c=rnd.randint(1,gen_size-1)\n",
        "\n",
        "    #print(c)\n",
        "    O1[:c]=P2[:c]\n",
        "    O1[c:]=P1[c:]\n",
        "\n",
        "    O2[:c]=P1[:c]\n",
        "    O2[c:]=P2[c:]\n",
        "    return O1,O2"
      ]
    },
    {
      "cell_type": "code",
      "execution_count": null,
      "id": "7ab4c159",
      "metadata": {
        "id": "7ab4c159"
      },
      "outputs": [],
      "source": [
        "def muation(mut):\n",
        "    temp=[]\n",
        "    temp=mut[:]\n",
        "    gen=rnd.randint(0,30)\n",
        "    index=rnd.randint(0,gen_size-1)\n",
        "    temp[index]=gen\n",
        "    return temp"
      ]
    },
    {
      "cell_type": "code",
      "execution_count": null,
      "id": "599e4bd7",
      "metadata": {
        "id": "599e4bd7",
        "outputId": "0334a32b-90fe-45f4-8a76-bcee68959305"
      },
      "outputs": [
        {
          "name": "stdout",
          "output_type": "stream",
          "text": [
            "([13, 1, 0, 10], [26, 10, 21, 8])\n"
          ]
        }
      ],
      "source": [
        "p1=[26, 1, 0, 10]\n",
        "p2=[13, 10, 21, 8]\n",
        "print(crossover(p1,p2))"
      ]
    },
    {
      "cell_type": "code",
      "execution_count": null,
      "id": "ac0cd6ff",
      "metadata": {
        "id": "ac0cd6ff",
        "outputId": "c93a9f1f-f787-4ef6-bf47-5cb7e011bc4d"
      },
      "outputs": [
        {
          "name": "stdout",
          "output_type": "stream",
          "text": [
            "Çapralamadan birey gelmedi   0\n",
            "Çapralamadan birey gelmedi   2\n",
            "Çapralamadan birey gelmedi   5\n",
            "Çapralamadan birey gelmedi   12\n",
            "Çapralamadan birey gelmedi   14\n",
            "Çapralamadan birey gelmedi   18\n",
            "Çapralamadan birey gelmedi   20\n",
            "Çapralamadan birey gelmedi   24\n",
            "Çapralamadan birey gelmedi   29\n",
            "Çapralamadan birey gelmedi   34\n",
            "Çapralamadan birey gelmedi   41\n",
            "Çapralamadan birey gelmedi   46\n",
            "[16, 3, 0, 2]   1.0\n",
            "[16, 3, 0, 2]   1.0\n",
            "[16, 3, 0, 2]   1.0\n",
            "[16, 3, 0, 2]   1.0\n",
            "[16, 3, 0, 2]   1.0\n",
            "[16, 3, 0, 2]   1.0\n"
          ]
        }
      ],
      "source": [
        "population=create_initial_pop()\n",
        "fitness_values=[]\n",
        "epok=0\n",
        "for i in population:\n",
        "    fitness_values.append(fitness(i))\n",
        "    #print(i,\" \",fitness(i))\n",
        "while(epok<iterasyon):\n",
        "    P=probabilitiy(fitness_values)\n",
        "    c=np.cumsum(p)\n",
        "    rulet_parents=[]\n",
        "\n",
        "    for i in range(0,len(c)):\n",
        "        r=rnd.random()\n",
        "        for j in range(0,len(c)):\n",
        "            if c[j]>r:\n",
        "                rulet_parents.append(j)\n",
        "                break\n",
        "    #print(rulet_parents)\n",
        "    crosover_parents=[]\n",
        "\n",
        "    k=0\n",
        "    while(k<pop_size):\n",
        "        r=rnd.random()\n",
        "        if(r<crosover_rate):\n",
        "            if(rulet_parents[k] not in crosover_parents):\n",
        "                crosover_parents.append(rulet_parents[k])\n",
        "        k=k+1\n",
        "    #print(crosover_parents)\n",
        "\n",
        "    if(len(crosover_parents)>1):\n",
        "        for i in range (0,len(crosover_parents)):\n",
        "            for j in range(i+1,len(crosover_parents)):\n",
        "                o1,o2=crossover(population[crosover_parents[i]],population[crosover_parents[j]])\n",
        "                population.append(o1)\n",
        "                population.append(o2)\n",
        "                fitness_values.append(fitness(o1))\n",
        "                fitness_values.append(fitness(o2))\n",
        "    else:\n",
        "        print(\"Çapralamadan birey gelmedi\",\" \",epok)\n",
        "\n",
        "    #print(population)\n",
        "    for i in range(0,50):\n",
        "        mut=muation(population[rnd.randint(0,len(population)-1)])\n",
        "        population.append(mut)\n",
        "        fitness_values.append(fitness(mut))\n",
        "    #print(population)\n",
        "\n",
        "\n",
        "    zip_list=zip(fitness_values,population)\n",
        "    sort_list=sorted(zip_list,reverse=True)\n",
        "\n",
        "    #for i in range(0,len(population)):\n",
        "    #    print(population[i],\" \",fitness_values[i])\n",
        "\n",
        "    e=len(population)\n",
        "    while(e>pop_size):\n",
        "        sort_list.pop()\n",
        "        e=e-1\n",
        "\n",
        "    population=[]\n",
        "    fitness_values=[]\n",
        "\n",
        "    for i,j in list(sort_list):\n",
        "        population.append(j)\n",
        "        fitness_values.append(i)\n",
        "    epok=epok+1\n",
        "\n",
        "for i in range(0,len(population)):\n",
        "    print(population[i],\" \",fitness_values[i])\n",
        ""
      ]
    },
    {
      "cell_type": "code",
      "execution_count": null,
      "id": "edc9f7b6",
      "metadata": {
        "id": "edc9f7b6",
        "outputId": "fc6e7311-a6c2-422d-a485-dd0bba871b0c"
      },
      "outputs": [
        {
          "data": {
            "text/plain": [
              "[[2, 28, 3, 14],\n",
              " [27, 25, 16, 27],\n",
              " [27, 27, 30, 1],\n",
              " [2, 25, 28, 22],\n",
              " [22, 26, 1, 3],\n",
              " [15, 17, 29, 0]]"
            ]
          },
          "execution_count": 43,
          "metadata": {},
          "output_type": "execute_result"
        }
      ],
      "source": [
        "population"
      ]
    },
    {
      "cell_type": "code",
      "execution_count": null,
      "id": "d32de65b",
      "metadata": {
        "id": "d32de65b",
        "outputId": "1344b148-436f-4b1b-f7c8-4bb8e7b5582d"
      },
      "outputs": [
        {
          "data": {
            "text/plain": [
              "[0.0053475935828877,\n",
              " 0.007633587786259542,\n",
              " 0.006060606060606061,\n",
              " 0.011111111111111112,\n",
              " 0.009174311926605505,\n",
              " 0.027777777777777776]"
            ]
          },
          "execution_count": 24,
          "metadata": {},
          "output_type": "execute_result"
        }
      ],
      "source": [
        "\n",
        "fitness_values"
      ]
    },
    {
      "cell_type": "code",
      "execution_count": null,
      "id": "2028da0e",
      "metadata": {
        "id": "2028da0e"
      },
      "outputs": [],
      "source": []
    }
  ],
  "metadata": {
    "kernelspec": {
      "display_name": "Python 3 (ipykernel)",
      "language": "python",
      "name": "python3"
    },
    "language_info": {
      "codemirror_mode": {
        "name": "ipython",
        "version": 3
      },
      "file_extension": ".py",
      "mimetype": "text/x-python",
      "name": "python",
      "nbconvert_exporter": "python",
      "pygments_lexer": "ipython3",
      "version": "3.11.5"
    },
    "colab": {
      "provenance": [],
      "include_colab_link": true
    }
  },
  "nbformat": 4,
  "nbformat_minor": 5
}