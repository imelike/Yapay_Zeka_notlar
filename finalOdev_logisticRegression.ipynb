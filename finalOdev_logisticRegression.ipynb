{
 "cells": [
  {
   "cell_type": "code",
   "execution_count": 1,
   "id": "70a13544",
   "metadata": {
    "_cell_guid": "b1076dfc-b9ad-4769-8c92-a6c4dae69d19",
    "_uuid": "8f2839f25d086af736a60e9eeb907d3b93b6e0e5",
    "execution": {
     "iopub.execute_input": "2024-09-23T11:59:30.644330Z",
     "iopub.status.busy": "2024-09-23T11:59:30.643211Z",
     "iopub.status.idle": "2024-09-23T11:59:31.062521Z",
     "shell.execute_reply": "2024-09-23T11:59:31.061377Z"
    },
    "papermill": {
     "duration": 0.427789,
     "end_time": "2024-09-23T11:59:31.064893",
     "exception": false,
     "start_time": "2024-09-23T11:59:30.637104",
     "status": "completed"
    },
    "tags": []
   },
   "outputs": [
    {
     "name": "stdout",
     "output_type": "stream",
     "text": [
      "/kaggle/input/air-quality-and-health-impact-dataset/air_quality_health_impact_data.csv\n"
     ]
    }
   ],
   "source": [
    "# This Python 3 environment comes with many helpful analytics libraries installed\n",
    "# It is defined by the kaggle/python Docker image: https://github.com/kaggle/docker-python\n",
    "# For example, here's several helpful packages to load\n",
    "\n",
    "import numpy as np # linear algebra\n",
    "import pandas as pd # data processing, CSV file I/O (e.g. pd.read_csv)\n",
    "\n",
    "# Input data files are available in the read-only \"../input/\" directory\n",
    "# For example, running this (by clicking run or pressing Shift+Enter) will list all files under the input directory\n",
    "\n",
    "import os\n",
    "for dirname, _, filenames in os.walk('/kaggle/input'):\n",
    "    for filename in filenames:\n",
    "        print(os.path.join(dirname, filename))\n",
    "\n",
    "# You can write up to 20GB to the current directory (/kaggle/working/) that gets preserved as output when you create a version using \"Save & Run All\" \n",
    "# You can also write temporary files to /kaggle/temp/, but they won't be saved outside of the current session"
   ]
  },
  {
   "cell_type": "code",
   "execution_count": 2,
   "id": "026f84b2",
   "metadata": {
    "execution": {
     "iopub.execute_input": "2024-09-23T11:59:31.075000Z",
     "iopub.status.busy": "2024-09-23T11:59:31.073968Z",
     "iopub.status.idle": "2024-09-23T11:59:31.156038Z",
     "shell.execute_reply": "2024-09-23T11:59:31.154883Z"
    },
    "papermill": {
     "duration": 0.089623,
     "end_time": "2024-09-23T11:59:31.158563",
     "exception": false,
     "start_time": "2024-09-23T11:59:31.068940",
     "status": "completed"
    },
    "tags": []
   },
   "outputs": [
    {
     "data": {
      "text/html": [
       "<div>\n",
       "<style scoped>\n",
       "    .dataframe tbody tr th:only-of-type {\n",
       "        vertical-align: middle;\n",
       "    }\n",
       "\n",
       "    .dataframe tbody tr th {\n",
       "        vertical-align: top;\n",
       "    }\n",
       "\n",
       "    .dataframe thead th {\n",
       "        text-align: right;\n",
       "    }\n",
       "</style>\n",
       "<table border=\"1\" class=\"dataframe\">\n",
       "  <thead>\n",
       "    <tr style=\"text-align: right;\">\n",
       "      <th></th>\n",
       "      <th>RecordID</th>\n",
       "      <th>AQI</th>\n",
       "      <th>PM10</th>\n",
       "      <th>PM2_5</th>\n",
       "      <th>NO2</th>\n",
       "      <th>SO2</th>\n",
       "      <th>O3</th>\n",
       "      <th>Temperature</th>\n",
       "      <th>Humidity</th>\n",
       "      <th>WindSpeed</th>\n",
       "      <th>RespiratoryCases</th>\n",
       "      <th>CardiovascularCases</th>\n",
       "      <th>HospitalAdmissions</th>\n",
       "      <th>HealthImpactScore</th>\n",
       "      <th>HealthImpactClass</th>\n",
       "    </tr>\n",
       "  </thead>\n",
       "  <tbody>\n",
       "    <tr>\n",
       "      <th>0</th>\n",
       "      <td>1</td>\n",
       "      <td>187.270059</td>\n",
       "      <td>295.853039</td>\n",
       "      <td>13.038560</td>\n",
       "      <td>6.639263</td>\n",
       "      <td>66.161150</td>\n",
       "      <td>54.624280</td>\n",
       "      <td>5.150335</td>\n",
       "      <td>84.424344</td>\n",
       "      <td>6.137755</td>\n",
       "      <td>7</td>\n",
       "      <td>5</td>\n",
       "      <td>1</td>\n",
       "      <td>97.244041</td>\n",
       "      <td>0.0</td>\n",
       "    </tr>\n",
       "    <tr>\n",
       "      <th>1</th>\n",
       "      <td>2</td>\n",
       "      <td>475.357153</td>\n",
       "      <td>246.254703</td>\n",
       "      <td>9.984497</td>\n",
       "      <td>16.318326</td>\n",
       "      <td>90.499523</td>\n",
       "      <td>169.621728</td>\n",
       "      <td>1.543378</td>\n",
       "      <td>46.851415</td>\n",
       "      <td>4.521422</td>\n",
       "      <td>10</td>\n",
       "      <td>2</td>\n",
       "      <td>0</td>\n",
       "      <td>100.000000</td>\n",
       "      <td>0.0</td>\n",
       "    </tr>\n",
       "    <tr>\n",
       "      <th>2</th>\n",
       "      <td>3</td>\n",
       "      <td>365.996971</td>\n",
       "      <td>84.443191</td>\n",
       "      <td>23.111340</td>\n",
       "      <td>96.317811</td>\n",
       "      <td>17.875850</td>\n",
       "      <td>9.006794</td>\n",
       "      <td>1.169483</td>\n",
       "      <td>17.806977</td>\n",
       "      <td>11.157384</td>\n",
       "      <td>13</td>\n",
       "      <td>3</td>\n",
       "      <td>0</td>\n",
       "      <td>100.000000</td>\n",
       "      <td>0.0</td>\n",
       "    </tr>\n",
       "    <tr>\n",
       "      <th>3</th>\n",
       "      <td>4</td>\n",
       "      <td>299.329242</td>\n",
       "      <td>21.020609</td>\n",
       "      <td>14.273403</td>\n",
       "      <td>81.234403</td>\n",
       "      <td>48.323616</td>\n",
       "      <td>93.161033</td>\n",
       "      <td>21.925276</td>\n",
       "      <td>99.473373</td>\n",
       "      <td>15.302500</td>\n",
       "      <td>8</td>\n",
       "      <td>8</td>\n",
       "      <td>1</td>\n",
       "      <td>100.000000</td>\n",
       "      <td>0.0</td>\n",
       "    </tr>\n",
       "    <tr>\n",
       "      <th>4</th>\n",
       "      <td>5</td>\n",
       "      <td>78.009320</td>\n",
       "      <td>16.987667</td>\n",
       "      <td>152.111623</td>\n",
       "      <td>121.235461</td>\n",
       "      <td>90.866167</td>\n",
       "      <td>241.795138</td>\n",
       "      <td>9.217517</td>\n",
       "      <td>24.906837</td>\n",
       "      <td>14.534733</td>\n",
       "      <td>9</td>\n",
       "      <td>0</td>\n",
       "      <td>1</td>\n",
       "      <td>95.182643</td>\n",
       "      <td>0.0</td>\n",
       "    </tr>\n",
       "  </tbody>\n",
       "</table>\n",
       "</div>"
      ],
      "text/plain": [
       "   RecordID         AQI        PM10       PM2_5         NO2        SO2  \\\n",
       "0         1  187.270059  295.853039   13.038560    6.639263  66.161150   \n",
       "1         2  475.357153  246.254703    9.984497   16.318326  90.499523   \n",
       "2         3  365.996971   84.443191   23.111340   96.317811  17.875850   \n",
       "3         4  299.329242   21.020609   14.273403   81.234403  48.323616   \n",
       "4         5   78.009320   16.987667  152.111623  121.235461  90.866167   \n",
       "\n",
       "           O3  Temperature   Humidity  WindSpeed  RespiratoryCases  \\\n",
       "0   54.624280     5.150335  84.424344   6.137755                 7   \n",
       "1  169.621728     1.543378  46.851415   4.521422                10   \n",
       "2    9.006794     1.169483  17.806977  11.157384                13   \n",
       "3   93.161033    21.925276  99.473373  15.302500                 8   \n",
       "4  241.795138     9.217517  24.906837  14.534733                 9   \n",
       "\n",
       "   CardiovascularCases  HospitalAdmissions  HealthImpactScore  \\\n",
       "0                    5                   1          97.244041   \n",
       "1                    2                   0         100.000000   \n",
       "2                    3                   0         100.000000   \n",
       "3                    8                   1         100.000000   \n",
       "4                    0                   1          95.182643   \n",
       "\n",
       "   HealthImpactClass  \n",
       "0                0.0  \n",
       "1                0.0  \n",
       "2                0.0  \n",
       "3                0.0  \n",
       "4                0.0  "
      ]
     },
     "execution_count": 2,
     "metadata": {},
     "output_type": "execute_result"
    }
   ],
   "source": [
    "# Veri setini dataFrame'e dönüştürelim\n",
    "\n",
    "df = pd.read_csv('/kaggle/input/air-quality-and-health-impact-dataset/air_quality_health_impact_data.csv')\n",
    "pd.set_option('max_colwidth', 100)\n",
    "df.head(5)"
   ]
  },
  {
   "cell_type": "code",
   "execution_count": 3,
   "id": "d7ea5f81",
   "metadata": {
    "execution": {
     "iopub.execute_input": "2024-09-23T11:59:31.168880Z",
     "iopub.status.busy": "2024-09-23T11:59:31.168483Z",
     "iopub.status.idle": "2024-09-23T11:59:32.760503Z",
     "shell.execute_reply": "2024-09-23T11:59:32.759425Z"
    },
    "papermill": {
     "duration": 1.60011,
     "end_time": "2024-09-23T11:59:32.763158",
     "exception": false,
     "start_time": "2024-09-23T11:59:31.163048",
     "status": "completed"
    },
    "tags": []
   },
   "outputs": [],
   "source": [
    "import pandas as pd\n",
    "import matplotlib.pyplot as plt\n",
    "from sklearn.model_selection import train_test_split\n",
    "from sklearn.preprocessing import StandardScaler\n",
    "from sklearn.linear_model import LogisticRegression\n",
    "from sklearn.metrics import confusion_matrix, classification_report\n",
    "from sklearn.preprocessing import label_binarize\n",
    "from sklearn.multiclass import OneVsRestClassifier\n",
    "\n",
    "import warnings\n",
    "warnings.filterwarnings('ignore')"
   ]
  },
  {
   "cell_type": "code",
   "execution_count": 4,
   "id": "1f3beaab",
   "metadata": {
    "execution": {
     "iopub.execute_input": "2024-09-23T11:59:32.773217Z",
     "iopub.status.busy": "2024-09-23T11:59:32.772598Z",
     "iopub.status.idle": "2024-09-23T11:59:32.785546Z",
     "shell.execute_reply": "2024-09-23T11:59:32.784302Z"
    },
    "papermill": {
     "duration": 0.021051,
     "end_time": "2024-09-23T11:59:32.788217",
     "exception": false,
     "start_time": "2024-09-23T11:59:32.767166",
     "status": "completed"
    },
    "tags": []
   },
   "outputs": [],
   "source": [
    "# Özellikler (X) ve hedef değişken (y)\n",
    "X = df.drop('HealthImpactClass', axis=1)\n",
    "y = df['HealthImpactClass']"
   ]
  },
  {
   "cell_type": "code",
   "execution_count": 5,
   "id": "a640c412",
   "metadata": {
    "execution": {
     "iopub.execute_input": "2024-09-23T11:59:32.798188Z",
     "iopub.status.busy": "2024-09-23T11:59:32.797761Z",
     "iopub.status.idle": "2024-09-23T11:59:32.810209Z",
     "shell.execute_reply": "2024-09-23T11:59:32.808897Z"
    },
    "papermill": {
     "duration": 0.020488,
     "end_time": "2024-09-23T11:59:32.812866",
     "exception": false,
     "start_time": "2024-09-23T11:59:32.792378",
     "status": "completed"
    },
    "tags": []
   },
   "outputs": [],
   "source": [
    "# Veriyi %80 eğitim ve %20 test setlerine ayırılır\n",
    "\n",
    "X_train, X_test, y_train, y_test = train_test_split(X, y, test_size=0.2, random_state=58)"
   ]
  },
  {
   "cell_type": "markdown",
   "id": "f0ed93fc",
   "metadata": {
    "papermill": {
     "duration": 0.003714,
     "end_time": "2024-09-23T11:59:32.820732",
     "exception": false,
     "start_time": "2024-09-23T11:59:32.817018",
     "status": "completed"
    },
    "tags": []
   },
   "source": [
    "Logistic Regression genellikle özellik ölçeklendirmesine duyarlı bir algoritma olduğundan, önce özellikleri ölçeklendireceğiz ve ardından Logistic Regression modelini eğiteceğiz."
   ]
  },
  {
   "cell_type": "code",
   "execution_count": 6,
   "id": "87a131c7",
   "metadata": {
    "execution": {
     "iopub.execute_input": "2024-09-23T11:59:32.830781Z",
     "iopub.status.busy": "2024-09-23T11:59:32.830386Z",
     "iopub.status.idle": "2024-09-23T11:59:32.845609Z",
     "shell.execute_reply": "2024-09-23T11:59:32.844394Z"
    },
    "papermill": {
     "duration": 0.023739,
     "end_time": "2024-09-23T11:59:32.848433",
     "exception": false,
     "start_time": "2024-09-23T11:59:32.824694",
     "status": "completed"
    },
    "tags": []
   },
   "outputs": [],
   "source": [
    "# Özellikleri ölçeklendirmesi\n",
    "\n",
    "scaler = StandardScaler()\n",
    "X_train = scaler.fit_transform(X_train)\n",
    "X_test = scaler.transform(X_test)"
   ]
  },
  {
   "cell_type": "code",
   "execution_count": 7,
   "id": "75d2ac11",
   "metadata": {
    "execution": {
     "iopub.execute_input": "2024-09-23T11:59:32.859733Z",
     "iopub.status.busy": "2024-09-23T11:59:32.859011Z",
     "iopub.status.idle": "2024-09-23T11:59:32.960437Z",
     "shell.execute_reply": "2024-09-23T11:59:32.958983Z"
    },
    "papermill": {
     "duration": 0.111094,
     "end_time": "2024-09-23T11:59:32.964042",
     "exception": false,
     "start_time": "2024-09-23T11:59:32.852948",
     "status": "completed"
    },
    "tags": []
   },
   "outputs": [
    {
     "data": {
      "text/html": [
       "<style>#sk-container-id-1 {color: black;background-color: white;}#sk-container-id-1 pre{padding: 0;}#sk-container-id-1 div.sk-toggleable {background-color: white;}#sk-container-id-1 label.sk-toggleable__label {cursor: pointer;display: block;width: 100%;margin-bottom: 0;padding: 0.3em;box-sizing: border-box;text-align: center;}#sk-container-id-1 label.sk-toggleable__label-arrow:before {content: \"▸\";float: left;margin-right: 0.25em;color: #696969;}#sk-container-id-1 label.sk-toggleable__label-arrow:hover:before {color: black;}#sk-container-id-1 div.sk-estimator:hover label.sk-toggleable__label-arrow:before {color: black;}#sk-container-id-1 div.sk-toggleable__content {max-height: 0;max-width: 0;overflow: hidden;text-align: left;background-color: #f0f8ff;}#sk-container-id-1 div.sk-toggleable__content pre {margin: 0.2em;color: black;border-radius: 0.25em;background-color: #f0f8ff;}#sk-container-id-1 input.sk-toggleable__control:checked~div.sk-toggleable__content {max-height: 200px;max-width: 100%;overflow: auto;}#sk-container-id-1 input.sk-toggleable__control:checked~label.sk-toggleable__label-arrow:before {content: \"▾\";}#sk-container-id-1 div.sk-estimator input.sk-toggleable__control:checked~label.sk-toggleable__label {background-color: #d4ebff;}#sk-container-id-1 div.sk-label input.sk-toggleable__control:checked~label.sk-toggleable__label {background-color: #d4ebff;}#sk-container-id-1 input.sk-hidden--visually {border: 0;clip: rect(1px 1px 1px 1px);clip: rect(1px, 1px, 1px, 1px);height: 1px;margin: -1px;overflow: hidden;padding: 0;position: absolute;width: 1px;}#sk-container-id-1 div.sk-estimator {font-family: monospace;background-color: #f0f8ff;border: 1px dotted black;border-radius: 0.25em;box-sizing: border-box;margin-bottom: 0.5em;}#sk-container-id-1 div.sk-estimator:hover {background-color: #d4ebff;}#sk-container-id-1 div.sk-parallel-item::after {content: \"\";width: 100%;border-bottom: 1px solid gray;flex-grow: 1;}#sk-container-id-1 div.sk-label:hover label.sk-toggleable__label {background-color: #d4ebff;}#sk-container-id-1 div.sk-serial::before {content: \"\";position: absolute;border-left: 1px solid gray;box-sizing: border-box;top: 0;bottom: 0;left: 50%;z-index: 0;}#sk-container-id-1 div.sk-serial {display: flex;flex-direction: column;align-items: center;background-color: white;padding-right: 0.2em;padding-left: 0.2em;position: relative;}#sk-container-id-1 div.sk-item {position: relative;z-index: 1;}#sk-container-id-1 div.sk-parallel {display: flex;align-items: stretch;justify-content: center;background-color: white;position: relative;}#sk-container-id-1 div.sk-item::before, #sk-container-id-1 div.sk-parallel-item::before {content: \"\";position: absolute;border-left: 1px solid gray;box-sizing: border-box;top: 0;bottom: 0;left: 50%;z-index: -1;}#sk-container-id-1 div.sk-parallel-item {display: flex;flex-direction: column;z-index: 1;position: relative;background-color: white;}#sk-container-id-1 div.sk-parallel-item:first-child::after {align-self: flex-end;width: 50%;}#sk-container-id-1 div.sk-parallel-item:last-child::after {align-self: flex-start;width: 50%;}#sk-container-id-1 div.sk-parallel-item:only-child::after {width: 0;}#sk-container-id-1 div.sk-dashed-wrapped {border: 1px dashed gray;margin: 0 0.4em 0.5em 0.4em;box-sizing: border-box;padding-bottom: 0.4em;background-color: white;}#sk-container-id-1 div.sk-label label {font-family: monospace;font-weight: bold;display: inline-block;line-height: 1.2em;}#sk-container-id-1 div.sk-label-container {text-align: center;}#sk-container-id-1 div.sk-container {/* jupyter's `normalize.less` sets `[hidden] { display: none; }` but bootstrap.min.css set `[hidden] { display: none !important; }` so we also need the `!important` here to be able to override the default hidden behavior on the sphinx rendered scikit-learn.org. See: https://github.com/scikit-learn/scikit-learn/issues/21755 */display: inline-block !important;position: relative;}#sk-container-id-1 div.sk-text-repr-fallback {display: none;}</style><div id=\"sk-container-id-1\" class=\"sk-top-container\"><div class=\"sk-text-repr-fallback\"><pre>OneVsRestClassifier(estimator=LogisticRegression())</pre><b>In a Jupyter environment, please rerun this cell to show the HTML representation or trust the notebook. <br />On GitHub, the HTML representation is unable to render, please try loading this page with nbviewer.org.</b></div><div class=\"sk-container\" hidden><div class=\"sk-item sk-dashed-wrapped\"><div class=\"sk-label-container\"><div class=\"sk-label sk-toggleable\"><input class=\"sk-toggleable__control sk-hidden--visually\" id=\"sk-estimator-id-1\" type=\"checkbox\" ><label for=\"sk-estimator-id-1\" class=\"sk-toggleable__label sk-toggleable__label-arrow\">OneVsRestClassifier</label><div class=\"sk-toggleable__content\"><pre>OneVsRestClassifier(estimator=LogisticRegression())</pre></div></div></div><div class=\"sk-parallel\"><div class=\"sk-parallel-item\"><div class=\"sk-item\"><div class=\"sk-label-container\"><div class=\"sk-label sk-toggleable\"><input class=\"sk-toggleable__control sk-hidden--visually\" id=\"sk-estimator-id-2\" type=\"checkbox\" ><label for=\"sk-estimator-id-2\" class=\"sk-toggleable__label sk-toggleable__label-arrow\">estimator: LogisticRegression</label><div class=\"sk-toggleable__content\"><pre>LogisticRegression()</pre></div></div></div><div class=\"sk-serial\"><div class=\"sk-item\"><div class=\"sk-estimator sk-toggleable\"><input class=\"sk-toggleable__control sk-hidden--visually\" id=\"sk-estimator-id-3\" type=\"checkbox\" ><label for=\"sk-estimator-id-3\" class=\"sk-toggleable__label sk-toggleable__label-arrow\">LogisticRegression</label><div class=\"sk-toggleable__content\"><pre>LogisticRegression()</pre></div></div></div></div></div></div></div></div></div></div>"
      ],
      "text/plain": [
       "OneVsRestClassifier(estimator=LogisticRegression())"
      ]
     },
     "execution_count": 7,
     "metadata": {},
     "output_type": "execute_result"
    }
   ],
   "source": [
    "# Logistic Regression modelini oluşturulması ve eğitim\n",
    "\n",
    "classifier = OneVsRestClassifier(LogisticRegression())\n",
    "classifier.fit(X_train, y_train)"
   ]
  },
  {
   "cell_type": "code",
   "execution_count": 8,
   "id": "6afdc935",
   "metadata": {
    "execution": {
     "iopub.execute_input": "2024-09-23T11:59:32.981158Z",
     "iopub.status.busy": "2024-09-23T11:59:32.980531Z",
     "iopub.status.idle": "2024-09-23T11:59:32.990587Z",
     "shell.execute_reply": "2024-09-23T11:59:32.989332Z"
    },
    "papermill": {
     "duration": 0.021946,
     "end_time": "2024-09-23T11:59:32.993734",
     "exception": false,
     "start_time": "2024-09-23T11:59:32.971788",
     "status": "completed"
    },
    "tags": []
   },
   "outputs": [],
   "source": [
    "# Tahminleri ve olasılık tahminlerini alınır\n",
    "\n",
    "y_pred = classifier.predict(X_test)"
   ]
  },
  {
   "cell_type": "code",
   "execution_count": 9,
   "id": "087c3b9b",
   "metadata": {
    "execution": {
     "iopub.execute_input": "2024-09-23T11:59:33.009731Z",
     "iopub.status.busy": "2024-09-23T11:59:33.009179Z",
     "iopub.status.idle": "2024-09-23T11:59:33.030782Z",
     "shell.execute_reply": "2024-09-23T11:59:33.029674Z"
    },
    "papermill": {
     "duration": 0.033089,
     "end_time": "2024-09-23T11:59:33.033783",
     "exception": false,
     "start_time": "2024-09-23T11:59:33.000694",
     "status": "completed"
    },
    "tags": []
   },
   "outputs": [
    {
     "name": "stdout",
     "output_type": "stream",
     "text": [
      "Classification Report:\n",
      "              precision    recall  f1-score   support\n",
      "\n",
      "         0.0       0.95      0.99      0.97       966\n",
      "         1.0       0.68      0.77      0.72       111\n",
      "         2.0       0.72      0.32      0.44        56\n",
      "         3.0       0.00      0.00      0.00        14\n",
      "         4.0       0.00      0.00      0.00        16\n",
      "\n",
      "    accuracy                           0.91      1163\n",
      "   macro avg       0.47      0.42      0.43      1163\n",
      "weighted avg       0.89      0.91      0.90      1163\n",
      "\n"
     ]
    }
   ],
   "source": [
    "# Classification Report\n",
    "print('Classification Report:')\n",
    "print(classification_report(y_test, y_pred))"
   ]
  },
  {
   "cell_type": "code",
   "execution_count": 10,
   "id": "6c6c7e7e",
   "metadata": {
    "execution": {
     "iopub.execute_input": "2024-09-23T11:59:33.050836Z",
     "iopub.status.busy": "2024-09-23T11:59:33.050260Z",
     "iopub.status.idle": "2024-09-23T11:59:33.067404Z",
     "shell.execute_reply": "2024-09-23T11:59:33.066152Z"
    },
    "papermill": {
     "duration": 0.03027,
     "end_time": "2024-09-23T11:59:33.071625",
     "exception": false,
     "start_time": "2024-09-23T11:59:33.041355",
     "status": "completed"
    },
    "tags": []
   },
   "outputs": [
    {
     "name": "stdout",
     "output_type": "stream",
     "text": [
      "Confusion Matrix:\n",
      "[[960   5   1   0   0]\n",
      " [ 24  85   2   0   0]\n",
      " [  8  29  18   0   1]\n",
      " [  6   4   4   0   0]\n",
      " [ 14   2   0   0   0]]\n"
     ]
    }
   ],
   "source": [
    "# Confusion Matrix\n",
    "print('Confusion Matrix:')\n",
    "print(confusion_matrix(y_test, y_pred))"
   ]
  },
  {
   "cell_type": "code",
   "execution_count": null,
   "id": "de777e56",
   "metadata": {
    "papermill": {
     "duration": 0.006801,
     "end_time": "2024-09-23T11:59:33.085580",
     "exception": false,
     "start_time": "2024-09-23T11:59:33.078779",
     "status": "completed"
    },
    "tags": []
   },
   "outputs": [],
   "source": []
  }
 ],
 "metadata": {
  "kaggle": {
   "accelerator": "none",
   "dataSources": [
    {
     "datasetId": 5200310,
     "sourceId": 8675842,
     "sourceType": "datasetVersion"
    }
   ],
   "dockerImageVersionId": 30761,
   "isGpuEnabled": false,
   "isInternetEnabled": true,
   "language": "python",
   "sourceType": "notebook"
  },
  "kernelspec": {
   "display_name": "Python 3",
   "language": "python",
   "name": "python3"
  },
  "language_info": {
   "codemirror_mode": {
    "name": "ipython",
    "version": 3
   },
   "file_extension": ".py",
   "mimetype": "text/x-python",
   "name": "python",
   "nbconvert_exporter": "python",
   "pygments_lexer": "ipython3",
   "version": "3.10.14"
  },
  "papermill": {
   "default_parameters": {},
   "duration": 5.840298,
   "end_time": "2024-09-23T11:59:33.724844",
   "environment_variables": {},
   "exception": null,
   "input_path": "__notebook__.ipynb",
   "output_path": "__notebook__.ipynb",
   "parameters": {},
   "start_time": "2024-09-23T11:59:27.884546",
   "version": "2.6.0"
  }
 },
 "nbformat": 4,
 "nbformat_minor": 5
}
